{
 "cells": [
  {
   "cell_type": "code",
   "execution_count": 1,
   "metadata": {},
   "outputs": [
    {
     "name": "stderr",
     "output_type": "stream",
     "text": [
      "Using TensorFlow backend.\n"
     ]
    }
   ],
   "source": [
    "%matplotlib inline\n",
    "%config InlineBackend.figure_format = 'retina'\n",
    "\n",
    "import numpy as np\n",
    "import pandas as pd\n",
    "import matplotlib.pyplot as plt\n",
    "import keras as K\n",
    "import seaborn as sns\n",
    "\n",
    "from sklearn.model_selection import train_test_split\n",
    "from sklearn.preprocessing import StandardScaler\n",
    "from keras.models import Sequential\n",
    "from keras.layers import Dense\n",
    "from keras.optimizers import SGD\n",
    "\n",
    "seed = 14\n",
    "np.random.seed(seed)"
   ]
  },
  {
   "cell_type": "markdown",
   "metadata": {},
   "source": [
    "# Load The Data\n",
    "\n",
    "Dataset taken from the StatLib library which is maintained at Carnegie Mellon University.\n",
    "\n",
    "Samples contain 13 attributes of houses at different locations around the Boston suburbs in the late 1970s. Targets are the median values of the houses at a location (in k$)."
   ]
  },
  {
   "cell_type": "code",
   "execution_count": 2,
   "metadata": {},
   "outputs": [],
   "source": [
    "batch_size = 5\n",
    "epochs = 10"
   ]
  },
  {
   "cell_type": "code",
   "execution_count": 3,
   "metadata": {},
   "outputs": [],
   "source": [
    "from keras.datasets import boston_housing\n",
    "\n",
    "(x_other, y_other), (x_test, y_test) = boston_housing.load_data(seed=seed, test_split=.1)\n",
    "\n",
    "features_scaler = StandardScaler()\n",
    "features_scaler.fit(x_other)\n",
    "features_scaler.transform(x_other)\n",
    "features_scaler.transform(x_test)\n",
    "\n",
    "x_train, x_val, y_train, y_val = train_test_split(x_other, y_other, test_size=0.1, random_state=seed)\n",
    "\n",
    "n_features = x_train.shape[1] # 13 distinct features\n",
    "\n",
    "sgd = SGD(lr=0.01)"
   ]
  },
  {
   "cell_type": "code",
   "execution_count": 4,
   "metadata": {},
   "outputs": [],
   "source": [
    "def base_model():\n",
    "    \n",
    "    # DO NOT CHANGE\n",
    "    model = Sequential()\n",
    "    # DO NOT MODIFY ABOVE\n",
    "    \n",
    "    # Define Model\n",
    "    model.add(Dense(units=5, input_dim=n_features, kernel_initializer='normal', activation='relu'))\n",
    "    model.add(Dense(1, kernel_initializer='normal'))\n",
    "    \n",
    "    # How to measure it?\n",
    "    model.compile(loss='mean_squared_error', optimizer=sgd, metrics=['accuracy', 'mae'])\n",
    "    \n",
    "    model.summary()\n",
    "    return model"
   ]
  },
  {
   "cell_type": "code",
   "execution_count": 5,
   "metadata": {},
   "outputs": [
    {
     "name": "stdout",
     "output_type": "stream",
     "text": [
      "_________________________________________________________________\n",
      "Layer (type)                 Output Shape              Param #   \n",
      "=================================================================\n",
      "dense_1 (Dense)              (None, 5)                 70        \n",
      "_________________________________________________________________\n",
      "dense_2 (Dense)              (None, 1)                 6         \n",
      "=================================================================\n",
      "Total params: 76\n",
      "Trainable params: 76\n",
      "Non-trainable params: 0\n",
      "_________________________________________________________________\n",
      "Train on 409 samples, validate on 46 samples\n",
      "Epoch 1/10\n",
      "409/409 [==============================] - 0s 831us/step - loss: 4102853.5412 - acc: 0.0000e+00 - mean_absolute_error: 404.0218 - val_loss: 6004.0636 - val_acc: 0.0000e+00 - val_mean_absolute_error: 76.9523\n",
      "Epoch 2/10\n",
      "409/409 [==============================] - 0s 346us/step - loss: 1770.0959 - acc: 0.0024 - mean_absolute_error: 37.1325 - val_loss: 343.4951 - val_acc: 0.0000e+00 - val_mean_absolute_error: 16.1582\n",
      "Epoch 3/10\n",
      "409/409 [==============================] - 0s 354us/step - loss: 148.8559 - acc: 0.0024 - mean_absolute_error: 8.9400 - val_loss: 102.8805 - val_acc: 0.0000e+00 - val_mean_absolute_error: 6.4509\n",
      "Epoch 4/10\n",
      "409/409 [==============================] - 0s 332us/step - loss: 88.7613 - acc: 0.0122 - mean_absolute_error: 6.6878 - val_loss: 87.7634 - val_acc: 0.0000e+00 - val_mean_absolute_error: 5.9416\n",
      "Epoch 5/10\n",
      "409/409 [==============================] - 0s 374us/step - loss: 86.6972 - acc: 0.0122 - mean_absolute_error: 6.7450 - val_loss: 86.5355 - val_acc: 0.0000e+00 - val_mean_absolute_error: 5.9880\n",
      "Epoch 6/10\n",
      "409/409 [==============================] - 0s 395us/step - loss: 86.6066 - acc: 0.0122 - mean_absolute_error: 6.7479 - val_loss: 85.8311 - val_acc: 0.0000e+00 - val_mean_absolute_error: 6.0196\n",
      "Epoch 7/10\n",
      "409/409 [==============================] - 0s 409us/step - loss: 86.6001 - acc: 0.0098 - mean_absolute_error: 6.7715 - val_loss: 86.1780 - val_acc: 0.0000e+00 - val_mean_absolute_error: 6.0037\n",
      "Epoch 8/10\n",
      "409/409 [==============================] - 0s 543us/step - loss: 86.6275 - acc: 0.0122 - mean_absolute_error: 6.7591 - val_loss: 85.8444 - val_acc: 0.0000e+00 - val_mean_absolute_error: 6.0189\n",
      "Epoch 9/10\n",
      "409/409 [==============================] - 0s 385us/step - loss: 86.5223 - acc: 0.0073 - mean_absolute_error: 6.8006 - val_loss: 86.8122 - val_acc: 0.0000e+00 - val_mean_absolute_error: 5.9764\n",
      "Epoch 10/10\n",
      "409/409 [==============================] - 0s 477us/step - loss: 86.7085 - acc: 0.0147 - mean_absolute_error: 6.7562 - val_loss: 86.3401 - val_acc: 0.0000e+00 - val_mean_absolute_error: 5.9965\n",
      "51/51 [==============================] - 0s 175us/step\n"
     ]
    },
    {
     "data": {
      "text/plain": [
       "[69.0510384054745, 0.039215686274509803, 5.9882037686366658]"
      ]
     },
     "execution_count": 5,
     "metadata": {},
     "output_type": "execute_result"
    }
   ],
   "source": [
    "model = base_model()\n",
    "model.fit(x_train, y_train, batch_size=batch_size, epochs=epochs, validation_data=(x_val, y_val))\n",
    "model.evaluate(x_test, y_test)"
   ]
  },
  {
   "cell_type": "code",
   "execution_count": 6,
   "metadata": {},
   "outputs": [],
   "source": [
    "def more_units_model():\n",
    "    \n",
    "    # DO NOT CHANGE\n",
    "    model = Sequential()\n",
    "    # DO NOT MODIFY ABOVE\n",
    "    \n",
    "    # Define Model\n",
    "    model.add(Dense(units=15, input_dim=n_features, kernel_initializer='normal', activation='relu'))\n",
    "    model.add(Dense(1, kernel_initializer='normal'))\n",
    "    \n",
    "    # How to measure it?\n",
    "    model.compile(loss='mean_squared_error', optimizer=sgd, metrics=['accuracy', 'mae'])\n",
    "    \n",
    "    model.summary()\n",
    "    return model"
   ]
  },
  {
   "cell_type": "code",
   "execution_count": 7,
   "metadata": {},
   "outputs": [
    {
     "name": "stdout",
     "output_type": "stream",
     "text": [
      "_________________________________________________________________\n",
      "Layer (type)                 Output Shape              Param #   \n",
      "=================================================================\n",
      "dense_3 (Dense)              (None, 15)                210       \n",
      "_________________________________________________________________\n",
      "dense_4 (Dense)              (None, 1)                 16        \n",
      "=================================================================\n",
      "Total params: 226\n",
      "Trainable params: 226\n",
      "Non-trainable params: 0\n",
      "_________________________________________________________________\n",
      "Train on 409 samples, validate on 46 samples\n",
      "Epoch 1/10\n",
      "409/409 [==============================] - 0s 831us/step - loss: 3010486.1910 - acc: 0.0000e+00 - mean_absolute_error: 343.3828 - val_loss: 4444.3989 - val_acc: 0.0000e+00 - val_mean_absolute_error: 66.0454\n",
      "Epoch 2/10\n",
      "409/409 [==============================] - 0s 798us/step - loss: 1319.0113 - acc: 0.0000e+00 - mean_absolute_error: 31.7669 - val_loss: 279.7374 - val_acc: 0.0000e+00 - val_mean_absolute_error: 14.0474\n",
      "Epoch 3/10\n",
      "409/409 [==============================] - 0s 1ms/step - loss: 130.6464 - acc: 0.0000e+00 - mean_absolute_error: 8.3644 - val_loss: 97.4794 - val_acc: 0.0000e+00 - val_mean_absolute_error: 6.1713\n",
      "Epoch 4/10\n",
      "409/409 [==============================] - 0s 707us/step - loss: 88.0947 - acc: 0.0098 - mean_absolute_error: 6.6757 - val_loss: 87.7003 - val_acc: 0.0000e+00 - val_mean_absolute_error: 5.9434\n",
      "Epoch 5/10\n",
      "409/409 [==============================] - 0s 457us/step - loss: 86.6231 - acc: 0.0122 - mean_absolute_error: 6.7032 - val_loss: 84.9136 - val_acc: 0.0000e+00 - val_mean_absolute_error: 6.0660\n",
      "Epoch 6/10\n",
      "409/409 [==============================] - 0s 744us/step - loss: 86.6054 - acc: 0.0122 - mean_absolute_error: 6.7927 - val_loss: 85.9863 - val_acc: 0.0000e+00 - val_mean_absolute_error: 6.0123\n",
      "Epoch 7/10\n",
      "409/409 [==============================] - 0s 513us/step - loss: 86.6548 - acc: 0.0122 - mean_absolute_error: 6.7508 - val_loss: 85.4642 - val_acc: 0.0000e+00 - val_mean_absolute_error: 6.0373\n",
      "Epoch 8/10\n",
      "409/409 [==============================] - 0s 374us/step - loss: 86.5590 - acc: 0.0122 - mean_absolute_error: 6.7368 - val_loss: 84.5238 - val_acc: 0.0217 - val_mean_absolute_error: 6.0925\n",
      "Epoch 9/10\n",
      "409/409 [==============================] - 0s 365us/step - loss: 86.6428 - acc: 0.0098 - mean_absolute_error: 6.8168 - val_loss: 86.1099 - val_acc: 0.0000e+00 - val_mean_absolute_error: 6.0067\n",
      "Epoch 10/10\n",
      "409/409 [==============================] - 0s 398us/step - loss: 86.4949 - acc: 0.0098 - mean_absolute_error: 6.7846 - val_loss: 86.7017 - val_acc: 0.0000e+00 - val_mean_absolute_error: 5.9810\n",
      "51/51 [==============================] - 0s 146us/step\n"
     ]
    },
    {
     "data": {
      "text/plain": [
       "[69.222599852318851, 0.039215686274509803, 5.9951749221951358]"
      ]
     },
     "execution_count": 7,
     "metadata": {},
     "output_type": "execute_result"
    }
   ],
   "source": [
    "model = more_units_model()\n",
    "model.fit(x_train, y_train, batch_size=batch_size, epochs=epochs, validation_data=(x_val, y_val))\n",
    "model.evaluate(x_test, y_test)"
   ]
  },
  {
   "cell_type": "code",
   "execution_count": 8,
   "metadata": {},
   "outputs": [],
   "source": [
    "def deeper_model():\n",
    "    \n",
    "    # DO NOT CHANGE\n",
    "    model = Sequential()\n",
    "    # DO NOT MODIFY ABOVE\n",
    "    \n",
    "    # Define Model\n",
    "    model.add(Dense(units=5, input_dim=n_features, kernel_initializer='normal', activation='relu'))\n",
    "    model.add(Dense(units=15, input_dim=n_features, kernel_initializer='normal', activation='relu'))\n",
    "    model.add(Dense(1, kernel_initializer='normal'))\n",
    "    \n",
    "    # How to measure it?\n",
    "    model.compile(loss='mean_squared_error', optimizer=sgd, metrics=['accuracy', 'mae'])\n",
    "    \n",
    "    model.summary()\n",
    "    return model"
   ]
  },
  {
   "cell_type": "code",
   "execution_count": 9,
   "metadata": {},
   "outputs": [
    {
     "name": "stdout",
     "output_type": "stream",
     "text": [
      "_________________________________________________________________\n",
      "Layer (type)                 Output Shape              Param #   \n",
      "=================================================================\n",
      "dense_5 (Dense)              (None, 5)                 70        \n",
      "_________________________________________________________________\n",
      "dense_6 (Dense)              (None, 15)                90        \n",
      "_________________________________________________________________\n",
      "dense_7 (Dense)              (None, 1)                 16        \n",
      "=================================================================\n",
      "Total params: 176\n",
      "Trainable params: 176\n",
      "Non-trainable params: 0\n",
      "_________________________________________________________________\n",
      "Train on 409 samples, validate on 46 samples\n",
      "Epoch 1/10\n",
      "409/409 [==============================] - 1s 1ms/step - loss: 263.2860 - acc: 0.0024 - mean_absolute_error: 12.5016 - val_loss: 123.0710 - val_acc: 0.0000e+00 - val_mean_absolute_error: 7.4576\n",
      "Epoch 2/10\n",
      "409/409 [==============================] - 0s 627us/step - loss: 92.8479 - acc: 0.0024 - mean_absolute_error: 6.7847 - val_loss: 89.7773 - val_acc: 0.0217 - val_mean_absolute_error: 5.9137\n",
      "Epoch 3/10\n",
      "409/409 [==============================] - 0s 790us/step - loss: 86.8548 - acc: 0.0073 - mean_absolute_error: 6.6884 - val_loss: 86.1637 - val_acc: 0.0000e+00 - val_mean_absolute_error: 6.0043\n",
      "Epoch 4/10\n",
      "409/409 [==============================] - 0s 441us/step - loss: 86.5797 - acc: 0.0147 - mean_absolute_error: 6.7455 - val_loss: 85.3674 - val_acc: 0.0000e+00 - val_mean_absolute_error: 6.0422\n",
      "Epoch 5/10\n",
      "409/409 [==============================] - 0s 527us/step - loss: 86.6033 - acc: 0.0171 - mean_absolute_error: 6.7803 - val_loss: 85.9856 - val_acc: 0.0000e+00 - val_mean_absolute_error: 6.0124\n",
      "Epoch 6/10\n",
      "409/409 [==============================] - 0s 491us/step - loss: 86.6702 - acc: 0.0098 - mean_absolute_error: 6.7670 - val_loss: 86.1733 - val_acc: 0.0000e+00 - val_mean_absolute_error: 6.0039\n",
      "Epoch 7/10\n",
      "409/409 [==============================] - 0s 628us/step - loss: 86.6067 - acc: 0.0122 - mean_absolute_error: 6.7396 - val_loss: 85.2374 - val_acc: 0.0000e+00 - val_mean_absolute_error: 6.0488\n",
      "Epoch 8/10\n",
      "409/409 [==============================] - 0s 473us/step - loss: 86.6119 - acc: 0.0098 - mean_absolute_error: 6.7865 - val_loss: 86.3891 - val_acc: 0.0000e+00 - val_mean_absolute_error: 5.9943\n",
      "Epoch 9/10\n",
      "409/409 [==============================] - 0s 590us/step - loss: 86.5599 - acc: 0.0073 - mean_absolute_error: 6.7617 - val_loss: 86.1079 - val_acc: 0.0000e+00 - val_mean_absolute_error: 6.0068\n",
      "Epoch 10/10\n",
      "409/409 [==============================] - 0s 840us/step - loss: 86.5692 - acc: 0.0122 - mean_absolute_error: 6.7116 - val_loss: 84.3271 - val_acc: 0.0217 - val_mean_absolute_error: 6.1076\n",
      "51/51 [==============================] - 0s 169us/step\n"
     ]
    },
    {
     "data": {
      "text/plain": [
       "[68.311991074505968, 0.0, 5.9777424943213369]"
      ]
     },
     "execution_count": 9,
     "metadata": {},
     "output_type": "execute_result"
    }
   ],
   "source": [
    "model = deeper_model()\n",
    "model.fit(x_train, y_train, batch_size=batch_size, epochs=epochs, validation_data=(x_val, y_val))\n",
    "model.evaluate(x_test, y_test)"
   ]
  },
  {
   "cell_type": "code",
   "execution_count": 10,
   "metadata": {},
   "outputs": [],
   "source": [
    "def crazy_model():\n",
    "    \n",
    "    # DO NOT CHANGE\n",
    "    model = Sequential()\n",
    "    # DO NOT MODIFY ABOVE\n",
    "    \n",
    "    # Define Model\n",
    "    model.add(Dense(units=10, input_dim=n_features, kernel_initializer='normal', activation='relu'))\n",
    "    model.add(Dense(units=10, input_dim=n_features, kernel_initializer='normal', activation='relu'))\n",
    "    model.add(Dense(1, kernel_initializer='normal'))\n",
    "    \n",
    "    # How to measure it?\n",
    "    model.compile(loss='mean_squared_error', optimizer=sgd, metrics=['accuracy', 'mae'])\n",
    "    \n",
    "    model.summary()\n",
    "    return model"
   ]
  },
  {
   "cell_type": "code",
   "execution_count": 11,
   "metadata": {},
   "outputs": [
    {
     "name": "stdout",
     "output_type": "stream",
     "text": [
      "_________________________________________________________________\n",
      "Layer (type)                 Output Shape              Param #   \n",
      "=================================================================\n",
      "dense_8 (Dense)              (None, 10)                140       \n",
      "_________________________________________________________________\n",
      "dense_9 (Dense)              (None, 10)                110       \n",
      "_________________________________________________________________\n",
      "dense_10 (Dense)             (None, 1)                 11        \n",
      "=================================================================\n",
      "Total params: 261\n",
      "Trainable params: 261\n",
      "Non-trainable params: 0\n",
      "_________________________________________________________________\n",
      "Train on 409 samples, validate on 46 samples\n",
      "Epoch 1/10\n",
      "409/409 [==============================] - 1s 1ms/step - loss: 79805.9794 - acc: 0.0024 - mean_absolute_error: 49.9857 - val_loss: 97.0569 - val_acc: 0.0000e+00 - val_mean_absolute_error: 6.1498\n",
      "Epoch 2/10\n",
      "409/409 [==============================] - 0s 1ms/step - loss: 87.4244 - acc: 0.0073 - mean_absolute_error: 6.6376 - val_loss: 85.5382 - val_acc: 0.0000e+00 - val_mean_absolute_error: 6.0336\n",
      "Epoch 3/10\n",
      "409/409 [==============================] - 0s 744us/step - loss: 86.6041 - acc: 0.0073 - mean_absolute_error: 6.7511 - val_loss: 85.1296 - val_acc: 0.0000e+00 - val_mean_absolute_error: 6.0544\n",
      "Epoch 4/10\n",
      "409/409 [==============================] - 0s 743us/step - loss: 86.6543 - acc: 0.0098 - mean_absolute_error: 6.7513 - val_loss: 84.8100 - val_acc: 0.0217 - val_mean_absolute_error: 6.0718\n",
      "Epoch 5/10\n",
      "409/409 [==============================] - 0s 692us/step - loss: 86.5531 - acc: 0.0098 - mean_absolute_error: 6.7932 - val_loss: 85.9861 - val_acc: 0.0000e+00 - val_mean_absolute_error: 6.0124\n",
      "Epoch 6/10\n",
      "409/409 [==============================] - 0s 776us/step - loss: 86.5512 - acc: 0.0122 - mean_absolute_error: 6.7498 - val_loss: 85.0208 - val_acc: 0.0000e+00 - val_mean_absolute_error: 6.0602\n",
      "Epoch 7/10\n",
      "409/409 [==============================] - 0s 757us/step - loss: 86.6230 - acc: 0.0122 - mean_absolute_error: 6.7976 - val_loss: 86.0290 - val_acc: 0.0000e+00 - val_mean_absolute_error: 6.0104\n",
      "Epoch 8/10\n",
      "409/409 [==============================] - 0s 869us/step - loss: 86.5132 - acc: 0.0122 - mean_absolute_error: 6.7299 - val_loss: 84.7849 - val_acc: 0.0217 - val_mean_absolute_error: 6.0736\n",
      "Epoch 9/10\n",
      "409/409 [==============================] - 0s 545us/step - loss: 86.6547 - acc: 0.0147 - mean_absolute_error: 6.7824 - val_loss: 85.3872 - val_acc: 0.0000e+00 - val_mean_absolute_error: 6.0412\n",
      "Epoch 10/10\n",
      "409/409 [==============================] - 0s 735us/step - loss: 86.5760 - acc: 0.0147 - mean_absolute_error: 6.7730 - val_loss: 85.9349 - val_acc: 0.0000e+00 - val_mean_absolute_error: 6.0147\n",
      "51/51 [==============================] - 0s 110us/step\n"
     ]
    },
    {
     "data": {
      "text/plain": [
       "[68.869546778061817, 0.039215686274509803, 5.9820296437132594]"
      ]
     },
     "execution_count": 11,
     "metadata": {},
     "output_type": "execute_result"
    }
   ],
   "source": [
    "model = crazy_model()\n",
    "model.fit(x_train, y_train, batch_size=batch_size, epochs=epochs, validation_data=(x_val, y_val))\n",
    "model.evaluate(x_test, y_test)"
   ]
  },
  {
   "cell_type": "code",
   "execution_count": null,
   "metadata": {},
   "outputs": [],
   "source": []
  }
 ],
 "metadata": {
  "kernelspec": {
   "display_name": "Python [conda env:py3]",
   "language": "python",
   "name": "conda-env-py3-py"
  },
  "language_info": {
   "codemirror_mode": {
    "name": "ipython",
    "version": 3
   },
   "file_extension": ".py",
   "mimetype": "text/x-python",
   "name": "python",
   "nbconvert_exporter": "python",
   "pygments_lexer": "ipython3",
   "version": "3.6.2"
  }
 },
 "nbformat": 4,
 "nbformat_minor": 2
}
