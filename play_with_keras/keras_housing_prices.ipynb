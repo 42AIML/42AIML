{
 "cells": [
  {
   "cell_type": "code",
   "execution_count": 1,
   "metadata": {},
   "outputs": [
    {
     "name": "stderr",
     "output_type": "stream",
     "text": [
      "Using TensorFlow backend.\n"
     ]
    }
   ],
   "source": [
    "%matplotlib inline\n",
    "%config InlineBackend.figure_format = 'retina'\n",
    "\n",
    "import numpy as np\n",
    "import pandas as pd\n",
    "import matplotlib.pyplot as plt\n",
    "import keras as K\n",
    "import seaborn as sns\n",
    "\n",
    "from sklearn.model_selection import train_test_split\n",
    "from sklearn.preprocessing import StandardScaler\n",
    "from keras.models import Sequential\n",
    "from keras.layers import Dense\n",
    "\n",
    "seed = 14\n",
    "np.random.seed(seed)"
   ]
  },
  {
   "cell_type": "markdown",
   "metadata": {},
   "source": [
    "# Load The Data\n",
    "\n",
    "Dataset taken from the StatLib library which is maintained at Carnegie Mellon University.\n",
    "\n",
    "Samples contain 13 attributes of houses at different locations around the Boston suburbs in the late 1970s. Targets are the median values of the houses at a location (in k$)."
   ]
  },
  {
   "cell_type": "code",
   "execution_count": 2,
   "metadata": {},
   "outputs": [],
   "source": [
    "from keras.datasets import boston_housing\n",
    "\n",
    "(x_other, y_other), (x_test, y_test) = boston_housing.load_data(seed=seed, test_split=.1)\n",
    "\n",
    "features_scaler = StandardScaler()\n",
    "features_scaler.fit(x_other)\n",
    "features_scaler.transform(x_other)\n",
    "features_scaler.transform(x_test)\n",
    "\n",
    "x_train, x_val, y_train, y_val = train_test_split(x_other, y_other, test_size=0.1, random_state=seed)\n",
    "\n",
    "n_features = x_train.shape[1] # 13 distinct features"
   ]
  },
  {
   "cell_type": "code",
   "execution_count": 3,
   "metadata": {},
   "outputs": [],
   "source": [
    "def base_model():\n",
    "    \n",
    "    # DO NOT CHANGE\n",
    "    model = Sequential()\n",
    "    # DO NOT MODIFY ABOVE\n",
    "    \n",
    "    # Define Model\n",
    "    model.add(Dense(units=5, input_dim=n_features, kernel_initializer='normal', activation='relu'))\n",
    "    model.add(Dense(1, kernel_initializer='normal'))\n",
    "    \n",
    "    # How to measure it?\n",
    "    model.compile(loss='mean_squared_error', optimizer='sgd', metrics=['accuracy', 'mae'])\n",
    "    \n",
    "    model.summary()\n",
    "    return model"
   ]
  },
  {
   "cell_type": "code",
   "execution_count": 13,
   "metadata": {},
   "outputs": [],
   "source": [
    "batch_size = 32\n",
    "epochs = 10"
   ]
  },
  {
   "cell_type": "code",
   "execution_count": 14,
   "metadata": {},
   "outputs": [
    {
     "name": "stdout",
     "output_type": "stream",
     "text": [
      "_________________________________________________________________\n",
      "Layer (type)                 Output Shape              Param #   \n",
      "=================================================================\n",
      "dense_7 (Dense)              (None, 15)                210       \n",
      "_________________________________________________________________\n",
      "dense_8 (Dense)              (None, 1)                 16        \n",
      "=================================================================\n",
      "Total params: 226\n",
      "Trainable params: 226\n",
      "Non-trainable params: 0\n",
      "_________________________________________________________________\n",
      "Train on 386 samples, validate on 69 samples\n",
      "Epoch 1/20\n",
      "386/386 [==============================] - 0s 328us/step - loss: 131317341.1744 - acc: 0.0000e+00 - mean_absolute_error: 3516.6700 - val_loss: 468076.8682 - val_acc: 0.0000e+00 - val_mean_absolute_error: 684.0927\n",
      "Epoch 2/20\n",
      "386/386 [==============================] - 0s 111us/step - loss: 349218.9935 - acc: 0.0000e+00 - mean_absolute_error: 588.2703 - val_loss: 236248.8635 - val_acc: 0.0000e+00 - val_mean_absolute_error: 485.9576\n",
      "Epoch 3/20\n",
      "386/386 [==============================] - 0s 143us/step - loss: 175854.8584 - acc: 0.0000e+00 - mean_absolute_error: 417.4273 - val_loss: 119243.6512 - val_acc: 0.0000e+00 - val_mean_absolute_error: 345.1805\n",
      "Epoch 4/20\n",
      "386/386 [==============================] - 0s 153us/step - loss: 88486.2737 - acc: 0.0000e+00 - mean_absolute_error: 295.9415 - val_loss: 60315.8286 - val_acc: 0.0000e+00 - val_mean_absolute_error: 245.4012\n",
      "Epoch 5/20\n",
      "386/386 [==============================] - 0s 176us/step - loss: 44556.0322 - acc: 0.0000e+00 - mean_absolute_error: 209.9713 - val_loss: 30643.1370 - val_acc: 0.0000e+00 - val_mean_absolute_error: 174.7829\n",
      "Epoch 6/20\n",
      "386/386 [==============================] - 0s 151us/step - loss: 22499.2677 - acc: 0.0000e+00 - mean_absolute_error: 149.0579 - val_loss: 15597.0311 - val_acc: 0.0000e+00 - val_mean_absolute_error: 124.5109\n",
      "Epoch 7/20\n",
      "386/386 [==============================] - 0s 151us/step - loss: 11357.4632 - acc: 0.0000e+00 - mean_absolute_error: 105.6915 - val_loss: 8023.9890 - val_acc: 0.0000e+00 - val_mean_absolute_error: 89.0501\n",
      "Epoch 8/20\n",
      "386/386 [==============================] - 0s 142us/step - loss: 5777.3378 - acc: 0.0000e+00 - mean_absolute_error: 75.1754 - val_loss: 4172.2481 - val_acc: 0.0000e+00 - val_mean_absolute_error: 63.8606\n",
      "Epoch 9/20\n",
      "386/386 [==============================] - 0s 162us/step - loss: 2961.4299 - acc: 0.0000e+00 - mean_absolute_error: 53.3692 - val_loss: 2195.4764 - val_acc: 0.0000e+00 - val_mean_absolute_error: 45.8411\n",
      "Epoch 10/20\n",
      "386/386 [==============================] - 0s 126us/step - loss: 1531.2723 - acc: 0.0000e+00 - mean_absolute_error: 37.8043 - val_loss: 1196.3985 - val_acc: 0.0000e+00 - val_mean_absolute_error: 33.2013\n",
      "Epoch 11/20\n",
      "386/386 [==============================] - 0s 164us/step - loss: 817.4060 - acc: 0.0000e+00 - mean_absolute_error: 26.9948 - val_loss: 675.6944 - val_acc: 0.0000e+00 - val_mean_absolute_error: 24.1169\n",
      "Epoch 12/20\n",
      "386/386 [==============================] - 0s 154us/step - loss: 453.4506 - acc: 0.0026 - mean_absolute_error: 19.1022 - val_loss: 409.0850 - val_acc: 0.0000e+00 - val_mean_absolute_error: 17.7487\n",
      "Epoch 13/20\n",
      "386/386 [==============================] - 0s 163us/step - loss: 271.9962 - acc: 0.0026 - mean_absolute_error: 13.7089 - val_loss: 268.2779 - val_acc: 0.0000e+00 - val_mean_absolute_error: 13.1988\n",
      "Epoch 14/20\n",
      "386/386 [==============================] - 0s 232us/step - loss: 179.4999 - acc: 0.0000e+00 - mean_absolute_error: 10.4099 - val_loss: 190.1523 - val_acc: 0.0145 - val_mean_absolute_error: 9.9817\n",
      "Epoch 15/20\n",
      "386/386 [==============================] - 0s 222us/step - loss: 130.6087 - acc: 0.0000e+00 - mean_absolute_error: 8.4591 - val_loss: 149.6502 - val_acc: 0.0000e+00 - val_mean_absolute_error: 8.3010\n",
      "Epoch 16/20\n",
      "386/386 [==============================] - 0s 139us/step - loss: 107.1023 - acc: 0.0000e+00 - mean_absolute_error: 7.3805 - val_loss: 130.0276 - val_acc: 0.0000e+00 - val_mean_absolute_error: 7.4065\n",
      "Epoch 17/20\n",
      "386/386 [==============================] - 0s 187us/step - loss: 96.6568 - acc: 0.0052 - mean_absolute_error: 6.9126 - val_loss: 117.1033 - val_acc: 0.0145 - val_mean_absolute_error: 6.7946\n",
      "Epoch 18/20\n",
      "386/386 [==============================] - 0s 151us/step - loss: 90.4108 - acc: 0.0104 - mean_absolute_error: 6.7055 - val_loss: 110.2697 - val_acc: 0.0000e+00 - val_mean_absolute_error: 6.5156\n",
      "Epoch 19/20\n",
      "386/386 [==============================] - 0s 139us/step - loss: 87.6071 - acc: 0.0130 - mean_absolute_error: 6.6259 - val_loss: 105.0966 - val_acc: 0.0145 - val_mean_absolute_error: 6.3898\n",
      "Epoch 20/20\n",
      "386/386 [==============================] - 0s 143us/step - loss: 85.7336 - acc: 0.0026 - mean_absolute_error: 6.6196 - val_loss: 101.9111 - val_acc: 0.0145 - val_mean_absolute_error: 6.4019\n"
     ]
    },
    {
     "data": {
      "text/plain": [
       "<keras.callbacks.History at 0x7fadd9690710>"
      ]
     },
     "execution_count": 14,
     "metadata": {},
     "output_type": "execute_result"
    }
   ],
   "source": [
    "model = base_model()\n",
    "model.fit(x_train, y_train, batch_size=batch_size, epochs=epochs, validation_data=(x_val, y_val))"
   ]
  },
  {
   "cell_type": "code",
   "execution_count": 15,
   "metadata": {},
   "outputs": [
    {
     "name": "stdout",
     "output_type": "stream",
     "text": [
      "51/51 [==============================] - 0s 102us/step\n"
     ]
    },
    {
     "data": {
      "text/plain": [
       "[70.960821413526347, 0.019607843137254902, 6.0915362601186711]"
      ]
     },
     "execution_count": 15,
     "metadata": {},
     "output_type": "execute_result"
    }
   ],
   "source": [
    "model.evaluate(x_test, y_test)"
   ]
  },
  {
   "cell_type": "code",
   "execution_count": null,
   "metadata": {},
   "outputs": [],
   "source": []
  }
 ],
 "metadata": {
  "kernelspec": {
   "display_name": "Python [conda env:py3]",
   "language": "python",
   "name": "conda-env-py3-py"
  },
  "language_info": {
   "codemirror_mode": {
    "name": "ipython",
    "version": 3
   },
   "file_extension": ".py",
   "mimetype": "text/x-python",
   "name": "python",
   "nbconvert_exporter": "python",
   "pygments_lexer": "ipython3",
   "version": "3.6.2"
  }
 },
 "nbformat": 4,
 "nbformat_minor": 2
}
